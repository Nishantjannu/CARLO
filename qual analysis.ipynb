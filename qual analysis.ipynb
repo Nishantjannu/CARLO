{
 "cells": [
  {
   "cell_type": "code",
   "execution_count": 45,
   "metadata": {},
   "outputs": [],
   "source": [
    "import pandas as pd\n",
    "import csv\n",
    "import seaborn as sns\n",
    "import matplotlib.pyplot as plt"
   ]
  },
  {
   "cell_type": "code",
   "execution_count": 6,
   "metadata": {},
   "outputs": [],
   "source": [
    "rows = []\n",
    "with open(\"eval_data/Learning from Self-Play User Study (Responses) - Form Responses 1.csv\", \"r\") as f:\n",
    "    reader = csv.reader(f)\n",
    "    for row in reader:\n",
    "        rows.append(row)"
   ]
  },
  {
   "cell_type": "code",
   "execution_count": 22,
   "metadata": {},
   "outputs": [
    {
     "name": "stdout",
     "output_type": "stream",
     "text": [
      "0: [for proctor] Autonomous Car Strategy\n",
      "1: The autonomous car understood how I wanted to merge.\n",
      "2: The autonomous car did not understand my strategy.\n",
      "3: It was easy to collaborate with the autonomous car.\n",
      "4: It was challenging to successfully work with the autonomous car.\n",
      "5: I feel like the autonomous car helped us achieve the task in an optimal way.\n",
      "6: The autonomous car harmed our overall team performance.\n",
      "7: The autonomous car behaved like a human driven car.\n",
      "8: The autonomous car's behavior was unnatural.\n",
      "9: Comments about this autonomous car:\n"
     ]
    }
   ],
   "source": [
    "for i, entry in enumerate(rows[0][4:14]):\n",
    "    print(\"{}: {}\".format(i, entry))"
   ]
  },
  {
   "cell_type": "code",
   "execution_count": 42,
   "metadata": {},
   "outputs": [],
   "source": [
    "run_to_method = {\"run1\": \"Multi LSTM\", \"run2\": \"Multi FC\", \"run3\": \"Combined LSTM\", \"run4\": \"Combined FC\"}\n",
    "df = []\n",
    "for row in rows[1:]:\n",
    "    for i in range(4):\n",
    "        answers = row[4+i*10:4+(i+1)*10]\n",
    "        method = run_to_method[\"run{:s}\".format(answers[0])]\n",
    "        understanding = int(answers[1])\n",
    "        df.append([method, understanding])\n",
    "df = pd.DataFrame(df, columns=[\"Method\", \"Understanding\"])"
   ]
  },
  {
   "cell_type": "code",
   "execution_count": 46,
   "metadata": {},
   "outputs": [
    {
     "data": {
      "text/plain": [
       "<matplotlib.axes._subplots.AxesSubplot at 0x7f468c73a940>"
      ]
     },
     "execution_count": 46,
     "metadata": {},
     "output_type": "execute_result"
    },
    {
     "data": {
      "image/png": "[encoded data removed]",
      "text/plain": [
       "<Figure size 432x288 with 1 Axes>"
      ]
     },
     "metadata": {
      "needs_background": "light"
     },
     "output_type": "display_data"
    }
   ],
   "source": [
    "plt.title(\"The autonomous car understood how I wanted to merge.\")\n",
    "sns.barplot(data=df, x=\"Method\", y=\"Understanding\")"
   ]
  },
  {
   "cell_type": "code",
   "execution_count": null,
   "metadata": {},
   "outputs": [],
   "source": []
  }
 ],
 "metadata": {
  "kernelspec": {
   "display_name": "hr_adaptation",
   "language": "python",
   "name": "hr_adaptation"
  },
  "language_info": {
   "codemirror_mode": {
    "name": "ipython",
    "version": 3
   },
   "file_extension": ".py",
   "mimetype": "text/x-python",
   "name": "python",
   "nbconvert_exporter": "python",
   "pygments_lexer": "ipython3",
   "version": "3.7.2"
  }
 },
 "nbformat": 4,
 "nbformat_minor": 2
}
